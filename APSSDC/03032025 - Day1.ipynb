{
 "cells": [
  {
   "cell_type": "markdown",
   "id": "1137340f-35f6-4bfb-aff2-0c900bdc1ef2",
   "metadata": {},
   "source": [
    "# Arithemetic Operations"
   ]
  },
  {
   "cell_type": "code",
   "execution_count": 8,
   "id": "f4eedf7a-a62a-48ce-b56e-bbda50b25bc1",
   "metadata": {},
   "outputs": [
    {
     "name": "stdin",
     "output_type": "stream",
     "text": [
      "Enter num1:  231212\n",
      "Enter num2:  121\n",
      "Enter operator:  +\n"
     ]
    },
    {
     "name": "stdout",
     "output_type": "stream",
     "text": [
      "Result: 231333\n"
     ]
    }
   ],
   "source": [
    "x = int(input(\"Enter num1: \"))\n",
    "y = int(input(\"Enter num2: \"))\n",
    "operator = input(\"Enter operator: \")  # No need to use str()\n",
    "\n",
    "# Check the operator and perform the corresponding operation\n",
    "if operator == '+':\n",
    "    res = x + y\n",
    "elif operator == '-':\n",
    "    res = x - y\n",
    "elif operator == '*':\n",
    "    res = x * y\n",
    "elif operator == '/':\n",
    "    if y == 0:\n",
    "        print(\"Error: Division by zero is not allowed.\")\n",
    "        res = None\n",
    "    else:\n",
    "        res = x / y\n",
    "elif operator == '%':\n",
    "    if y == 0:\n",
    "        print(\"Error: Modulo by zero is not allowed.\")\n",
    "        res = None\n",
    "    else:\n",
    "        res = x % y\n",
    "else:\n",
    "    print(\"Invalid operator\")\n",
    "    res = None  # Ensures res is always defined\n",
    "\n",
    "# Print the result if res is not None\n",
    "if res is not None:\n",
    "    print(\"Result:\", res)\n"
   ]
  },
  {
   "cell_type": "markdown",
   "id": "465aeb1e-6e5c-4a73-928d-30723f884f21",
   "metadata": {},
   "source": [
    "# Sum of odd digits in the given input number"
   ]
  },
  {
   "cell_type": "code",
   "execution_count": 10,
   "id": "5b11d413-2892-401b-9d0a-d654309d7cc4",
   "metadata": {},
   "outputs": [
    {
     "name": "stdin",
     "output_type": "stream",
     "text": [
      "Enter a number:  23121212\n"
     ]
    },
    {
     "name": "stdout",
     "output_type": "stream",
     "text": [
      "Odd digits in the given number: 3 1 1 1\n",
      "Sum of odd digits: 6\n"
     ]
    }
   ],
   "source": [
    "\n",
    "\n",
    "number = input(\"Enter a number: \")  \n",
    "sum_odd = 0  \n",
    "odd_digits_array = [] \n",
    "\n",
    "# Iterate through each digit in the number\n",
    "for digit in number:\n",
    "    if int(digit) % 2 != 0: \n",
    "        odd_digits_array.append(digit) \n",
    "        sum_odd = sum_odd + int(digit)  \n",
    "\n",
    "# Print the odd digits and their sum\n",
    "print(\"Odd digits in the given number:\", \" \".join(odd_digits_array))\n",
    "print(\"Sum of odd digits:\", sum_odd)\n"
   ]
  },
  {
   "cell_type": "markdown",
   "id": "86471994-fe0f-444b-9359-51539ee5aec9",
   "metadata": {},
   "source": [
    "# File Creation"
   ]
  },
  {
   "cell_type": "code",
   "execution_count": 39,
   "id": "029cd958-8626-4601-a682-e307668c1384",
   "metadata": {},
   "outputs": [
    {
     "name": "stdout",
     "output_type": "stream",
     "text": [
      "file created successfully\n"
     ]
    }
   ],
   "source": [
    "# File Creation\n",
    "f = open('data1.txt','w')\n",
    "print('file created successfully')\n",
    "f.close()\n",
    "\n"
   ]
  },
  {
   "cell_type": "markdown",
   "id": "ca788984-f3d4-481d-83c2-48b738dd7145",
   "metadata": {},
   "source": [
    "# Content"
   ]
  },
  {
   "cell_type": "code",
   "execution_count": 42,
   "id": "83c927a8-84d7-4e96-a184-c5c9daed6f34",
   "metadata": {},
   "outputs": [
    {
     "name": "stdout",
     "output_type": "stream",
     "text": [
      "Success\n"
     ]
    }
   ],
   "source": [
    "f1=open('data1.txt','w')\n",
    "f1.write(\"Welcome to APSSDC Workshop\")\n",
    "print(\"Success\")\n",
    "f1.close()"
   ]
  },
  {
   "cell_type": "markdown",
   "id": "7489b39b-2168-4aeb-9622-508f1445602a",
   "metadata": {},
   "source": [
    "# Append Mode"
   ]
  },
  {
   "cell_type": "code",
   "execution_count": 45,
   "id": "f25c23a3-7652-41db-b4e4-485fc80a7a85",
   "metadata": {},
   "outputs": [
    {
     "name": "stdout",
     "output_type": "stream",
     "text": [
      "Success\n"
     ]
    }
   ],
   "source": [
    "f2=open('data1.txt','a')\n",
    "f2.write(\"\\nWelcome to VVIT Nambur\")\n",
    "print(\"Success\")\n",
    "f2.close()"
   ]
  },
  {
   "cell_type": "code",
   "execution_count": 49,
   "id": "3ddf8166-a8e1-4229-a1db-839bb3b6c463",
   "metadata": {},
   "outputs": [
    {
     "data": {
      "text/plain": [
       "'Welcome to APSSDC Workshop\\nWelcome to VVIT Nambur'"
      ]
     },
     "execution_count": 49,
     "metadata": {},
     "output_type": "execute_result"
    }
   ],
   "source": [
    "f3 = open('data1.txt','r')\n",
    "data = f3.read()\n",
    "data"
   ]
  },
  {
   "cell_type": "markdown",
   "id": "17127c9d-c7a4-4630-a5b2-cc487ded44f9",
   "metadata": {},
   "source": [
    "# Reading Characters in a file specifically"
   ]
  },
  {
   "cell_type": "code",
   "execution_count": 52,
   "id": "3ae80f01-9f9a-46b2-9791-9ef56f620e4b",
   "metadata": {},
   "outputs": [
    {
     "data": {
      "text/plain": [
       "'Welco'"
      ]
     },
     "execution_count": 52,
     "metadata": {},
     "output_type": "execute_result"
    }
   ],
   "source": [
    "f3 = open('data1.txt','r')\n",
    "data = f3.read(5)\n",
    "data"
   ]
  },
  {
   "cell_type": "code",
   "execution_count": 55,
   "id": "9fec7dc3-bc2f-4bea-976e-592877f8d11e",
   "metadata": {},
   "outputs": [
    {
     "name": "stdout",
     "output_type": "stream",
     "text": [
      "Welcom\n",
      "e to AP\n"
     ]
    }
   ],
   "source": [
    "f3 = open('data1.txt','r')\n",
    "print(f3.read(6))\n",
    "print(f3.read(7))"
   ]
  },
  {
   "cell_type": "markdown",
   "id": "15ff9f63-378a-431c-8c55-95cf30cd02c7",
   "metadata": {},
   "source": [
    "# with --keyword and as well as function"
   ]
  },
  {
   "cell_type": "code",
   "execution_count": 58,
   "id": "d22cbebe-7b8d-4983-aa2a-123d8488b9bb",
   "metadata": {},
   "outputs": [
    {
     "name": "stdout",
     "output_type": "stream",
     "text": [
      "Welcome to APSSDC Workshop\n",
      "Welcome to VVIT Nambur\n"
     ]
    }
   ],
   "source": [
    "with open('data1.txt','r') as f:\n",
    "    print(f.read())"
   ]
  },
  {
   "cell_type": "markdown",
   "id": "65c80dd9-869f-489e-9d48-eb762d03fbf9",
   "metadata": {},
   "source": [
    "# readline()"
   ]
  },
  {
   "cell_type": "code",
   "execution_count": 61,
   "id": "2934c3d1-a1c5-48af-8cac-d00bf4d471bb",
   "metadata": {},
   "outputs": [
    {
     "name": "stdout",
     "output_type": "stream",
     "text": [
      "Welcome to APSSDC Workshop\n",
      "\n"
     ]
    }
   ],
   "source": [
    "with open('data1.txt','r') as f:\n",
    "    print(f.readline())"
   ]
  },
  {
   "cell_type": "markdown",
   "id": "38efdd82-c714-4a44-a6b0-e9d261ec6e15",
   "metadata": {},
   "source": [
    "# readlines()"
   ]
  },
  {
   "cell_type": "code",
   "execution_count": 64,
   "id": "73121d5e-386b-47b5-b99c-09205c49d872",
   "metadata": {},
   "outputs": [
    {
     "name": "stdout",
     "output_type": "stream",
     "text": [
      "['Welcome to APSSDC Workshop\\n', 'Welcome to VVIT Nambur']\n"
     ]
    }
   ],
   "source": [
    "with open('data1.txt','r') as f:\n",
    "    print(f.readlines())"
   ]
  },
  {
   "cell_type": "markdown",
   "id": "189e639a-df85-4f85-83cb-69a343da111c",
   "metadata": {},
   "source": [
    "# split() -- List of Words"
   ]
  },
  {
   "cell_type": "code",
   "execution_count": 72,
   "id": "17f02dc1-6fcd-4c3c-806c-f339c9432cac",
   "metadata": {},
   "outputs": [
    {
     "name": "stdout",
     "output_type": "stream",
     "text": [
      "['Welcome', 'to', 'APSSDC', 'Workshop', 'Welcome', 'to', 'VVIT', 'Nambur']\n"
     ]
    }
   ],
   "source": [
    "with open('data1.txt','r') as f:\n",
    "    print(f.read().split())"
   ]
  },
  {
   "cell_type": "markdown",
   "id": "a0acf40b-3909-4d02-b77e-6d56246208df",
   "metadata": {},
   "source": [
    "# Total Number of Characters in a file"
   ]
  },
  {
   "cell_type": "code",
   "execution_count": 84,
   "id": "9a901d59-1965-48e2-aba0-ee6e34e05e77",
   "metadata": {},
   "outputs": [
    {
     "name": "stdout",
     "output_type": "stream",
     "text": [
      "Total number of characters in a file by reading a file:  49\n"
     ]
    }
   ],
   "source": [
    "with open('data1.txt','r') as f:\n",
    "    print(\"Total number of characters in a file by reading a file: \",len(f.read()))"
   ]
  },
  {
   "cell_type": "markdown",
   "id": "825ec3a1-97c6-4be7-9dce-b4fd2de0770a",
   "metadata": {},
   "source": [
    "# Total Number of lines in a file"
   ]
  },
  {
   "cell_type": "code",
   "execution_count": 87,
   "id": "7502b836-094b-4989-87a4-0c8daf761aa0",
   "metadata": {},
   "outputs": [
    {
     "name": "stdout",
     "output_type": "stream",
     "text": [
      "Total number of lines in a file by reading all lines:  2\n"
     ]
    }
   ],
   "source": [
    "with open('data1.txt','r') as f:\n",
    "    print(\"Total number of lines in a file by reading all lines: \",len(f.readlines()))"
   ]
  },
  {
   "cell_type": "code",
   "execution_count": 89,
   "id": "015f790f-1052-40e9-a33e-b9f320144bf0",
   "metadata": {},
   "outputs": [
    {
     "name": "stdout",
     "output_type": "stream",
     "text": [
      "4\n",
      "ome t\n",
      "9\n"
     ]
    }
   ],
   "source": [
    "# Seek: to change the cursor position\n",
    "# when you read 4 characters, it starts from the previous cursor's position\n",
    "# tell: It tells about the cursor position\n",
    "\n",
    "with open('data1.txt','r') as f:\n",
    "    print(f.seek(4))\n",
    "    print(f.read(5))\n",
    "    print(f.tell())"
   ]
  },
  {
   "cell_type": "code",
   "execution_count": 119,
   "id": "7e9ac654-bf62-4631-9e5d-40a310d9a5b1",
   "metadata": {},
   "outputs": [
    {
     "name": "stdout",
     "output_type": "stream",
     "text": [
      "Total number of spaces in a file by reading a file using count() mehtod:  6\n",
      "Total number of spaces in a file by reading a file without using direct methods:  6\n"
     ]
    }
   ],
   "source": [
    "# Total number of spaces in a file using count() method\n",
    "with open('data1.txt','r') as f:\n",
    "    x=f.read().count(' ')\n",
    "    print(\"Total number of spaces in a file by reading a file using count() mehtod: \",x)\n",
    "\n",
    "# Total number of spaces in a file without using any direct methods\n",
    "space_count = 0\n",
    "with open('data1.txt','r') as f:\n",
    "    for char in f.read():\n",
    "        if(char == ' '):\n",
    "            space_count = space_count + 1\n",
    "    print(\"Total number of spaces in a file by reading a file without using direct methods: \",space_count)"
   ]
  },
  {
   "cell_type": "code",
   "execution_count": 135,
   "id": "f2913672-aea6-496d-8572-13ee6cdd5575",
   "metadata": {},
   "outputs": [
    {
     "name": "stdout",
     "output_type": "stream",
     "text": [
      "No of words in a file:  8\n"
     ]
    }
   ],
   "source": [
    "# Total number of words in a file:\n",
    "with open('data1.txt','r') as f:\n",
    "    words_count = len(f.read().split())\n",
    "    print(\"No of words in a file: \", words_count)"
   ]
  },
  {
   "cell_type": "code",
   "execution_count": 141,
   "id": "182e85de-77e4-4c55-8171-69d5ed3141fd",
   "metadata": {},
   "outputs": [
    {
     "name": "stdout",
     "output_type": "stream",
     "text": [
      "True\n",
      "False\n"
     ]
    }
   ],
   "source": [
    "# File Existed or Not\n",
    "import os\n",
    "print(os.path.exists('data1.txt')) # True\n",
    "print(os.path.exists('data2.txt')) # False since there is no file"
   ]
  },
  {
   "cell_type": "code",
   "execution_count": null,
   "id": "bcd1107b-8be9-4f61-92bc-12f7ab8116de",
   "metadata": {},
   "outputs": [],
   "source": []
  }
 ],
 "metadata": {
  "kernelspec": {
   "display_name": "Python [conda env:base] *",
   "language": "python",
   "name": "conda-base-py"
  },
  "language_info": {
   "codemirror_mode": {
    "name": "ipython",
    "version": 3
   },
   "file_extension": ".py",
   "mimetype": "text/x-python",
   "name": "python",
   "nbconvert_exporter": "python",
   "pygments_lexer": "ipython3",
   "version": "3.12.7"
  }
 },
 "nbformat": 4,
 "nbformat_minor": 5
}
